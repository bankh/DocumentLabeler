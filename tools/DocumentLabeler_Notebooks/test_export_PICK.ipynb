{
 "cells": [
  {
   "cell_type": "code",
   "execution_count": 1,
   "metadata": {},
   "outputs": [
    {
     "name": "stdout",
     "output_type": "stream",
     "text": [
      "/mnt/data/Data-Document/Data_CatalogBankPaper/Tools\n"
     ]
    }
   ],
   "source": [
    "!pwd"
   ]
  },
  {
   "cell_type": "code",
   "execution_count": 3,
   "metadata": {},
   "outputs": [
    {
     "name": "stdout",
     "output_type": "stream",
     "text": [
      "/mnt/data/Data-Document/Data_CatalogBankPaper/McMasterCarr/McMasterCarr_DocumentLabeler\n"
     ]
    }
   ],
   "source": [
    "%cd /mnt/data/Data-Document/Data_CatalogBankPaper/McMasterCarr/McMasterCarr_DocumentLabeler\n"
   ]
  },
  {
   "cell_type": "code",
   "execution_count": 27,
   "metadata": {},
   "outputs": [],
   "source": [
    "text_file = 'Label.txt'\n",
    "target_directory = '/mnt/data/Data-Document/Data_CatalogBankPaper/McMasterCarr/McMasterCarr_DocumentLabeler/train'\n",
    "\n",
    "convert_files(text_file, target_directory)"
   ]
  },
  {
   "cell_type": "code",
   "execution_count": 26,
   "metadata": {},
   "outputs": [],
   "source": [
    "import json\n",
    "import os\n",
    "import shutil\n",
    "\n",
    "def convert_files(text_file, target_directory):\n",
    "    # function to convert the json data to the desired format\n",
    "    def convert_json_data(data):\n",
    "        id = 0\n",
    "        converted_data = []\n",
    "        for entry in data:\n",
    "            transcription = entry['transcription']\n",
    "            points = entry['points']\n",
    "            label = entry['key_cls']\n",
    "            x1, y1 = points[0]\n",
    "            x2, y2 = points[2]\n",
    "            box = [x1, y1, x2, y1, x2, y2, x1, y2]\n",
    "            converted_data.append([id] + box + [transcription, label])\n",
    "            id += 1\n",
    "        return converted_data\n",
    "\n",
    "    # create the directories if they don't exist\n",
    "    boxes_and_transcripts_dir = os.path.join(target_directory, 'boxes_and_transcripts')\n",
    "    images_dir = os.path.join(target_directory, 'images')\n",
    "    os.makedirs(boxes_and_transcripts_dir, exist_ok=True)\n",
    "    os.makedirs(images_dir, exist_ok=True)\n",
    "    \n",
    "    # read the text file\n",
    "    with open(text_file, 'r') as f:\n",
    "        file_data = f.readlines()\n",
    "    \n",
    "    tsv_files = []  # list to store the generated .tsv file paths\n",
    "    \n",
    "    # loop over each line in the text file\n",
    "    for line in file_data:\n",
    "        line = line.strip()\n",
    "        file_path, json_data = line.split('\\t')\n",
    "        base_file_name = os.path.splitext(os.path.basename(file_path))[0]\n",
    "        tsv_file_path = os.path.join(boxes_and_transcripts_dir, base_file_name + '.tsv')\n",
    "        image_file_path = os.path.join(images_dir, base_file_name + '.jpg')\n",
    "        \n",
    "        # read the json data\n",
    "        data = json.loads(json_data)\n",
    "\n",
    "        # convert the json data to the desired format\n",
    "        converted_data = convert_json_data(data)\n",
    "\n",
    "        # write the output .tsv file\n",
    "        with open(tsv_file_path, 'w') as f:\n",
    "            # f.write('id\\tX1\\tY1\\tX2\\tY2\\tX3\\tY3\\tX4\\tY4\\ttranscription\\tlabel\\n')\n",
    "            for entry in converted_data:\n",
    "                f.write(','.join([str(e) for e in entry]) + '\\n')\n",
    "        \n",
    "        tsv_files.append(tsv_file_path)\n",
    "        \n",
    "        # copy the image file\n",
    "        shutil.copy(base_file_name+'.jpg', image_file_path)\n",
    "    \n",
    "    # write the train_file_name.csv file\n",
    "    with open(os.path.join(target_directory, 'train_file_name.csv'), 'w') as f:\n",
    "        # f.write('id\\tdocument\\ttsv_file\\n')\n",
    "        for i, tsv_file in enumerate(tsv_files):\n",
    "            f.write(str(i) + ',' + 'document' + ',' + os.path.splitext(os.path.basename(tsv_file))[0] + '.jpg' + '\\n')\n"
   ]
  }
 ],
 "metadata": {
  "kernelspec": {
   "display_name": "documentlabeler",
   "language": "python",
   "name": "python3"
  },
  "language_info": {
   "codemirror_mode": {
    "name": "ipython",
    "version": 3
   },
   "file_extension": ".py",
   "mimetype": "text/x-python",
   "name": "python",
   "nbconvert_exporter": "python",
   "pygments_lexer": "ipython3",
   "version": "3.8.0"
  },
  "orig_nbformat": 4
 },
 "nbformat": 4,
 "nbformat_minor": 2
}
